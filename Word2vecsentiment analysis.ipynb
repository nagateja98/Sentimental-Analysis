{
  "nbformat": 4,
  "nbformat_minor": 0,
  "metadata": {
    "accelerator": "GPU",
    "colab": {
      "name": "Word2vec_Naga.ipynb",
      "provenance": [],
      "collapsed_sections": [],
      "toc_visible": true
    },
    "kernelspec": {
      "name": "python3",
      "display_name": "Python 3"
    },
    "language_info": {
      "codemirror_mode": {
        "name": "ipython",
        "version": 3
      },
      "file_extension": ".py",
      "mimetype": "text/x-python",
      "name": "python",
      "nbconvert_exporter": "python",
      "pygments_lexer": "ipython3",
      "version": "3.6.5"
    },
    "toc": {
      "base_numbering": 1,
      "nav_menu": {},
      "number_sections": true,
      "sideBar": true,
      "skip_h1_title": false,
      "title_cell": "Table of Contents",
      "title_sidebar": "Contents",
      "toc_cell": false,
      "toc_position": {},
      "toc_section_display": true,
      "toc_window_display": false
    },
    "widgets": {
      "application/vnd.jupyter.widget-state+json": {
        "346c21bc94d945718d07473f51a8f91d": {
          "model_module": "@jupyter-widgets/controls",
          "model_name": "HBoxModel",
          "state": {
            "_view_name": "HBoxView",
            "_dom_classes": [],
            "_model_name": "HBoxModel",
            "_view_module": "@jupyter-widgets/controls",
            "_model_module_version": "1.5.0",
            "_view_count": null,
            "_view_module_version": "1.5.0",
            "box_style": "",
            "layout": "IPY_MODEL_bea32da8db1f447287c576099e78f574",
            "_model_module": "@jupyter-widgets/controls",
            "children": [
              "IPY_MODEL_c5a1223c7a7d47f3bc959524c525291b",
              "IPY_MODEL_462bc671943e407a8d6c01f9a1ddd3ff"
            ]
          }
        },
        "bea32da8db1f447287c576099e78f574": {
          "model_module": "@jupyter-widgets/base",
          "model_name": "LayoutModel",
          "state": {
            "_view_name": "LayoutView",
            "grid_template_rows": null,
            "right": null,
            "justify_content": null,
            "_view_module": "@jupyter-widgets/base",
            "overflow": null,
            "_model_module_version": "1.2.0",
            "_view_count": null,
            "flex_flow": null,
            "width": null,
            "min_width": null,
            "border": null,
            "align_items": null,
            "bottom": null,
            "_model_module": "@jupyter-widgets/base",
            "top": null,
            "grid_column": null,
            "overflow_y": null,
            "overflow_x": null,
            "grid_auto_flow": null,
            "grid_area": null,
            "grid_template_columns": null,
            "flex": null,
            "_model_name": "LayoutModel",
            "justify_items": null,
            "grid_row": null,
            "max_height": null,
            "align_content": null,
            "visibility": null,
            "align_self": null,
            "height": null,
            "min_height": null,
            "padding": null,
            "grid_auto_rows": null,
            "grid_gap": null,
            "max_width": null,
            "order": null,
            "_view_module_version": "1.2.0",
            "grid_template_areas": null,
            "object_position": null,
            "object_fit": null,
            "grid_auto_columns": null,
            "margin": null,
            "display": null,
            "left": null
          }
        },
        "c5a1223c7a7d47f3bc959524c525291b": {
          "model_module": "@jupyter-widgets/controls",
          "model_name": "IntProgressModel",
          "state": {
            "_view_name": "ProgressView",
            "style": "IPY_MODEL_1710ff0636f24f98b922563103fbf05c",
            "_dom_classes": [],
            "description": "100%",
            "_model_name": "IntProgressModel",
            "bar_style": "success",
            "max": 156060,
            "_view_module": "@jupyter-widgets/controls",
            "_model_module_version": "1.5.0",
            "value": 156060,
            "_view_count": null,
            "_view_module_version": "1.5.0",
            "orientation": "horizontal",
            "min": 0,
            "description_tooltip": null,
            "_model_module": "@jupyter-widgets/controls",
            "layout": "IPY_MODEL_6c5e35f312934aa6b110e1f33276b385"
          }
        },
        "462bc671943e407a8d6c01f9a1ddd3ff": {
          "model_module": "@jupyter-widgets/controls",
          "model_name": "HTMLModel",
          "state": {
            "_view_name": "HTMLView",
            "style": "IPY_MODEL_ba3aa19ea34f48ca8d33264cc286f766",
            "_dom_classes": [],
            "description": "",
            "_model_name": "HTMLModel",
            "placeholder": "​",
            "_view_module": "@jupyter-widgets/controls",
            "_model_module_version": "1.5.0",
            "value": " 156060/156060 [00:28&lt;00:00, 5520.99it/s]",
            "_view_count": null,
            "_view_module_version": "1.5.0",
            "description_tooltip": null,
            "_model_module": "@jupyter-widgets/controls",
            "layout": "IPY_MODEL_678a1dad1cd64789905db0bd48c696ea"
          }
        },
        "1710ff0636f24f98b922563103fbf05c": {
          "model_module": "@jupyter-widgets/controls",
          "model_name": "ProgressStyleModel",
          "state": {
            "_view_name": "StyleView",
            "_model_name": "ProgressStyleModel",
            "description_width": "initial",
            "_view_module": "@jupyter-widgets/base",
            "_model_module_version": "1.5.0",
            "_view_count": null,
            "_view_module_version": "1.2.0",
            "bar_color": null,
            "_model_module": "@jupyter-widgets/controls"
          }
        },
        "6c5e35f312934aa6b110e1f33276b385": {
          "model_module": "@jupyter-widgets/base",
          "model_name": "LayoutModel",
          "state": {
            "_view_name": "LayoutView",
            "grid_template_rows": null,
            "right": null,
            "justify_content": null,
            "_view_module": "@jupyter-widgets/base",
            "overflow": null,
            "_model_module_version": "1.2.0",
            "_view_count": null,
            "flex_flow": null,
            "width": null,
            "min_width": null,
            "border": null,
            "align_items": null,
            "bottom": null,
            "_model_module": "@jupyter-widgets/base",
            "top": null,
            "grid_column": null,
            "overflow_y": null,
            "overflow_x": null,
            "grid_auto_flow": null,
            "grid_area": null,
            "grid_template_columns": null,
            "flex": null,
            "_model_name": "LayoutModel",
            "justify_items": null,
            "grid_row": null,
            "max_height": null,
            "align_content": null,
            "visibility": null,
            "align_self": null,
            "height": null,
            "min_height": null,
            "padding": null,
            "grid_auto_rows": null,
            "grid_gap": null,
            "max_width": null,
            "order": null,
            "_view_module_version": "1.2.0",
            "grid_template_areas": null,
            "object_position": null,
            "object_fit": null,
            "grid_auto_columns": null,
            "margin": null,
            "display": null,
            "left": null
          }
        },
        "ba3aa19ea34f48ca8d33264cc286f766": {
          "model_module": "@jupyter-widgets/controls",
          "model_name": "DescriptionStyleModel",
          "state": {
            "_view_name": "StyleView",
            "_model_name": "DescriptionStyleModel",
            "description_width": "",
            "_view_module": "@jupyter-widgets/base",
            "_model_module_version": "1.5.0",
            "_view_count": null,
            "_view_module_version": "1.2.0",
            "_model_module": "@jupyter-widgets/controls"
          }
        },
        "678a1dad1cd64789905db0bd48c696ea": {
          "model_module": "@jupyter-widgets/base",
          "model_name": "LayoutModel",
          "state": {
            "_view_name": "LayoutView",
            "grid_template_rows": null,
            "right": null,
            "justify_content": null,
            "_view_module": "@jupyter-widgets/base",
            "overflow": null,
            "_model_module_version": "1.2.0",
            "_view_count": null,
            "flex_flow": null,
            "width": null,
            "min_width": null,
            "border": null,
            "align_items": null,
            "bottom": null,
            "_model_module": "@jupyter-widgets/base",
            "top": null,
            "grid_column": null,
            "overflow_y": null,
            "overflow_x": null,
            "grid_auto_flow": null,
            "grid_area": null,
            "grid_template_columns": null,
            "flex": null,
            "_model_name": "LayoutModel",
            "justify_items": null,
            "grid_row": null,
            "max_height": null,
            "align_content": null,
            "visibility": null,
            "align_self": null,
            "height": null,
            "min_height": null,
            "padding": null,
            "grid_auto_rows": null,
            "grid_gap": null,
            "max_width": null,
            "order": null,
            "_view_module_version": "1.2.0",
            "grid_template_areas": null,
            "object_position": null,
            "object_fit": null,
            "grid_auto_columns": null,
            "margin": null,
            "display": null,
            "left": null
          }
        }
      }
    }
  },
  "cells": [
    {
      "cell_type": "code",
      "metadata": {
        "id": "e95U9YmG_B7o",
        "colab_type": "code",
        "outputId": "13193c7c-1cbb-4e2f-dcb7-95415b1d5287",
        "colab": {
          "base_uri": "https://localhost:8080/",
          "height": 34
        }
      },
      "source": [
        "from google.colab import drive\n",
        "drive.mount('/content/gdrive')"
      ],
      "execution_count": 63,
      "outputs": [
        {
          "output_type": "stream",
          "text": [
            "Drive already mounted at /content/gdrive; to attempt to forcibly remount, call drive.mount(\"/content/gdrive\", force_remount=True).\n"
          ],
          "name": "stdout"
        }
      ]
    },
    {
      "cell_type": "code",
      "metadata": {
        "id": "wvmr6qee_CwL",
        "colab_type": "code",
        "outputId": "ade442a9-5434-4d4a-f94e-5d1e0f631e93",
        "colab": {
          "base_uri": "https://localhost:8080/",
          "height": 34
        }
      },
      "source": [
        "cd /content/gdrive/My Drive/Sentiment_Analysis_Rotten_Tomatoes/"
      ],
      "execution_count": 64,
      "outputs": [
        {
          "output_type": "stream",
          "text": [
            "/content/gdrive/My Drive/Sentiment_Analysis_Rotten_Tomatoes\n"
          ],
          "name": "stdout"
        }
      ]
    },
    {
      "cell_type": "code",
      "metadata": {
        "colab_type": "code",
        "id": "jWexRDozDo-Q",
        "outputId": "3d231afa-d909-4561-e652-412ac80dbd8e",
        "colab": {
          "base_uri": "https://localhost:8080/",
          "height": 34
        }
      },
      "source": [
        "!python3 -m pip install pyspellchecker"
      ],
      "execution_count": 65,
      "outputs": [
        {
          "output_type": "stream",
          "text": [
            "Requirement already satisfied: pyspellchecker in /usr/local/lib/python3.6/dist-packages (0.5.4)\n"
          ],
          "name": "stdout"
        }
      ]
    },
    {
      "cell_type": "code",
      "metadata": {
        "ExecuteTime": {
          "end_time": "2020-03-17T16:40:47.846500Z",
          "start_time": "2020-03-17T16:40:47.813456Z"
        },
        "colab_type": "code",
        "id": "oFwQVwB6Do-b",
        "colab": {}
      },
      "source": [
        "import numpy as np\n",
        "import pandas as pd\n",
        "import string, re\n",
        "from unicodedata import category, name, normalize\n",
        "from nltk.corpus import stopwords\n",
        "from matplotlib import pyplot as plt\n",
        "import seaborn as sns\n",
        "\n",
        "from sklearn.model_selection import train_test_split\n",
        "from sklearn.feature_extraction.text import CountVectorizer\n",
        "from sklearn.feature_extraction.text import TfidfTransformer\n",
        "from sklearn.linear_model import LogisticRegression\n",
        "from sklearn import metrics\n",
        "\n",
        "import gensim\n",
        "from gensim.models.word2vec import Word2Vec\n",
        "\n",
        "from tqdm import tqdm_notebook as tqdm"
      ],
      "execution_count": 0,
      "outputs": []
    },
    {
      "cell_type": "code",
      "metadata": {
        "ExecuteTime": {
          "end_time": "2020-03-17T16:40:49.499480Z",
          "start_time": "2020-03-17T16:40:49.206894Z"
        },
        "colab_type": "code",
        "id": "4PsTBBesDo-g",
        "outputId": "21a70879-4002-4a16-a9a4-321b280371f7",
        "colab": {
          "base_uri": "https://localhost:8080/",
          "height": 34
        }
      },
      "source": [
        "train = pd.read_csv('train.tsv',sep='\\t')\n",
        "train.shape"
      ],
      "execution_count": 67,
      "outputs": [
        {
          "output_type": "execute_result",
          "data": {
            "text/plain": [
              "(156060, 4)"
            ]
          },
          "metadata": {
            "tags": []
          },
          "execution_count": 67
        }
      ]
    },
    {
      "cell_type": "code",
      "metadata": {
        "ExecuteTime": {
          "end_time": "2020-03-17T16:40:49.557596Z",
          "start_time": "2020-03-17T16:40:49.533455Z"
        },
        "colab_type": "code",
        "id": "5SdrAWxRDo-l",
        "outputId": "d80eda29-6fd3-47da-c197-842ab0b8a30a",
        "colab": {
          "base_uri": "https://localhost:8080/",
          "height": 343
        }
      },
      "source": [
        "train.head(10)"
      ],
      "execution_count": 68,
      "outputs": [
        {
          "output_type": "execute_result",
          "data": {
            "text/html": [
              "<div>\n",
              "<style scoped>\n",
              "    .dataframe tbody tr th:only-of-type {\n",
              "        vertical-align: middle;\n",
              "    }\n",
              "\n",
              "    .dataframe tbody tr th {\n",
              "        vertical-align: top;\n",
              "    }\n",
              "\n",
              "    .dataframe thead th {\n",
              "        text-align: right;\n",
              "    }\n",
              "</style>\n",
              "<table border=\"1\" class=\"dataframe\">\n",
              "  <thead>\n",
              "    <tr style=\"text-align: right;\">\n",
              "      <th></th>\n",
              "      <th>PhraseId</th>\n",
              "      <th>SentenceId</th>\n",
              "      <th>Phrase</th>\n",
              "      <th>Sentiment</th>\n",
              "    </tr>\n",
              "  </thead>\n",
              "  <tbody>\n",
              "    <tr>\n",
              "      <th>0</th>\n",
              "      <td>1</td>\n",
              "      <td>1</td>\n",
              "      <td>A series of escapades demonstrating the adage ...</td>\n",
              "      <td>1</td>\n",
              "    </tr>\n",
              "    <tr>\n",
              "      <th>1</th>\n",
              "      <td>2</td>\n",
              "      <td>1</td>\n",
              "      <td>A series of escapades demonstrating the adage ...</td>\n",
              "      <td>2</td>\n",
              "    </tr>\n",
              "    <tr>\n",
              "      <th>2</th>\n",
              "      <td>3</td>\n",
              "      <td>1</td>\n",
              "      <td>A series</td>\n",
              "      <td>2</td>\n",
              "    </tr>\n",
              "    <tr>\n",
              "      <th>3</th>\n",
              "      <td>4</td>\n",
              "      <td>1</td>\n",
              "      <td>A</td>\n",
              "      <td>2</td>\n",
              "    </tr>\n",
              "    <tr>\n",
              "      <th>4</th>\n",
              "      <td>5</td>\n",
              "      <td>1</td>\n",
              "      <td>series</td>\n",
              "      <td>2</td>\n",
              "    </tr>\n",
              "    <tr>\n",
              "      <th>5</th>\n",
              "      <td>6</td>\n",
              "      <td>1</td>\n",
              "      <td>of escapades demonstrating the adage that what...</td>\n",
              "      <td>2</td>\n",
              "    </tr>\n",
              "    <tr>\n",
              "      <th>6</th>\n",
              "      <td>7</td>\n",
              "      <td>1</td>\n",
              "      <td>of</td>\n",
              "      <td>2</td>\n",
              "    </tr>\n",
              "    <tr>\n",
              "      <th>7</th>\n",
              "      <td>8</td>\n",
              "      <td>1</td>\n",
              "      <td>escapades demonstrating the adage that what is...</td>\n",
              "      <td>2</td>\n",
              "    </tr>\n",
              "    <tr>\n",
              "      <th>8</th>\n",
              "      <td>9</td>\n",
              "      <td>1</td>\n",
              "      <td>escapades</td>\n",
              "      <td>2</td>\n",
              "    </tr>\n",
              "    <tr>\n",
              "      <th>9</th>\n",
              "      <td>10</td>\n",
              "      <td>1</td>\n",
              "      <td>demonstrating the adage that what is good for ...</td>\n",
              "      <td>2</td>\n",
              "    </tr>\n",
              "  </tbody>\n",
              "</table>\n",
              "</div>"
            ],
            "text/plain": [
              "   PhraseId  ...  Sentiment\n",
              "0         1  ...          1\n",
              "1         2  ...          2\n",
              "2         3  ...          2\n",
              "3         4  ...          2\n",
              "4         5  ...          2\n",
              "5         6  ...          2\n",
              "6         7  ...          2\n",
              "7         8  ...          2\n",
              "8         9  ...          2\n",
              "9        10  ...          2\n",
              "\n",
              "[10 rows x 4 columns]"
            ]
          },
          "metadata": {
            "tags": []
          },
          "execution_count": 68
        }
      ]
    },
    {
      "cell_type": "code",
      "metadata": {
        "ExecuteTime": {
          "end_time": "2020-03-17T16:40:50.266479Z",
          "start_time": "2020-03-17T16:40:50.254089Z"
        },
        "colab_type": "code",
        "id": "TsPujKQwDo-u",
        "outputId": "c65d8d70-95a2-47f0-f61b-140e93e5ce29",
        "colab": {
          "base_uri": "https://localhost:8080/",
          "height": 188
        }
      },
      "source": [
        "train['Phrase'][:10].values"
      ],
      "execution_count": 69,
      "outputs": [
        {
          "output_type": "execute_result",
          "data": {
            "text/plain": [
              "array(['A series of escapades demonstrating the adage that what is good for the goose is also good for the gander , some of which occasionally amuses but none of which amounts to much of a story .',\n",
              "       'A series of escapades demonstrating the adage that what is good for the goose',\n",
              "       'A series', 'A', 'series',\n",
              "       'of escapades demonstrating the adage that what is good for the goose',\n",
              "       'of',\n",
              "       'escapades demonstrating the adage that what is good for the goose',\n",
              "       'escapades',\n",
              "       'demonstrating the adage that what is good for the goose'],\n",
              "      dtype=object)"
            ]
          },
          "metadata": {
            "tags": []
          },
          "execution_count": 69
        }
      ]
    },
    {
      "cell_type": "code",
      "metadata": {
        "ExecuteTime": {
          "end_time": "2020-03-17T16:40:51.731284Z",
          "start_time": "2020-03-17T16:40:51.273650Z"
        },
        "colab_type": "code",
        "id": "8QXmFIZ8Do-y",
        "outputId": "83dd4914-d055-4fd1-adab-4ab9fe6cc9af",
        "colab": {
          "base_uri": "https://localhost:8080/",
          "height": 391
        }
      },
      "source": [
        "vc = train.Sentiment.value_counts()\n",
        "fig, ax = plt.subplots(figsize=(8,6))\n",
        "sns.barplot(vc.keys(), vc.values)"
      ],
      "execution_count": 70,
      "outputs": [
        {
          "output_type": "execute_result",
          "data": {
            "text/plain": [
              "<matplotlib.axes._subplots.AxesSubplot at 0x7f696bcf7c50>"
            ]
          },
          "metadata": {
            "tags": []
          },
          "execution_count": 70
        },
        {
          "output_type": "display_data",
          "data": {
            "image/png": "[encoded data removed]",
            "text/plain": [
              "<Figure size 576x432 with 1 Axes>"
            ]
          },
          "metadata": {
            "tags": []
          }
        }
      ]
    },
    {
      "cell_type": "code",
      "metadata": {
        "ExecuteTime": {
          "end_time": "2020-03-17T16:40:52.949349Z",
          "start_time": "2020-03-17T16:40:52.851996Z"
        },
        "colab_type": "code",
        "id": "atjxf0Y5Do_D",
        "colab": {}
      },
      "source": [
        "# remove space\n",
        "def remove_space(text):\n",
        "    spaces = ['\\u200b', '\\u200e', '\\u202a', '\\u202c', '\\ufeff', '\\uf0d8', '\\u2061', '\\x10', '\\x7f', '\\x9d', '\\xad', '\\xa0']\n",
        "    for space in spaces:\n",
        "        text = text.replace(space, ' ')\n",
        "    text = text.strip()\n",
        "    text = re.sub('\\s+', ' ', text)\n",
        "    return text\n",
        "\n",
        "#critics\n",
        "def remove_diacritics(s):\n",
        "    return ''.join(c for c in normalize('NFKD', s.replace('ø', 'o').replace('Ø', 'O').replace('⁻', '-').replace('₋', '-'))\n",
        "                  if category(c) != 'Mn')\n",
        "\n",
        "#clearn punctuations\n",
        "def clean_special_punctuations(text):\n",
        "    special_punc_mappings = {\"—\": \"-\", \"–\": \"-\", \"_\": \"-\", '”': '\"', \"″\": '\"', '“': '\"', '•': '.', '−': '-',\n",
        "                         \"’\": \"'\", \"‘\": \"'\", \"´\": \"'\", \"`\": \"'\", '\\u200b': ' ', '\\xa0': ' ','،':'','„':'',\n",
        "                         '…': ' ... ', '\\ufeff': ''}\n",
        "    for punc in special_punc_mappings:\n",
        "        if punc in text:\n",
        "            text = text.replace(punc, special_punc_mappings[punc])\n",
        "    text = remove_diacritics(text)\n",
        "    return text\n",
        "\n",
        "# clean numbers\n",
        "def clean_number(text):\n",
        "    text = re.sub(r'(\\d+)([a-zA-Z])', '\\g<1> \\g<2>', text) # digits followed by a single alphabet...\n",
        "    text = re.sub(r'(\\d+) (th|st|nd|rd) ', '\\g<1>\\g<2> ', text) #1st, 2nd, 3rd, 4th...\n",
        "    text = re.sub(r'(\\d+),(\\d+)', '\\g<1>\\g<2>', text)\n",
        "    return text\n",
        "\n",
        "# emojis\n",
        "def handle_emojis(text):\n",
        "    # Smile -- :), : ), :-), (:, ( :, (-:, :')\n",
        "    text = re.sub(r'(:\\s?\\)|:-\\)|\\(\\s?:|\\(-:|:\\'\\))', ' EMO_POS ', text)\n",
        "    # Laugh -- :D, : D, :-D, xD, x-D, XD, X-D\n",
        "    text = re.sub(r'(:\\s?D|:-D|x-?D|X-?D)', ' EMO_POS ', text)\n",
        "    # Love -- <3, :*\n",
        "    text = re.sub(r'(<3|:\\*)', ' EMO_POS ', text)\n",
        "    # Wink -- ;-), ;), ;-D, ;D, (;,  (-;\n",
        "    text = re.sub(r'(;-?\\)|;-?D|\\(-?;)', ' EMO_POS ', text)\n",
        "    # Sad -- :-(, : (, :(, ):, )-:\n",
        "    text = re.sub(r'(:\\s?\\(|:-\\(|\\)\\s?:|\\)-:)', ' EMO_NEG ', text)\n",
        "    # Cry -- :,(, :'(, :\"(\n",
        "    text = re.sub(r'(:,\\(|:\\'\\(|:\"\\()', ' EMO_NEG ', text)\n",
        "    return text\n",
        "\n",
        "#stop words\n",
        "def stop(text):\n",
        "    text = \" \".join([w.lower() for w in text.split()])\n",
        "    stop_words = stopwords.words('english')\n",
        "    \n",
        "    words = [w for w in text.split() if not w in stop_words]\n",
        "    return \" \".join(words)\n",
        "\n",
        "# clean repeated letters\n",
        "def clean_repeat_words(text):\n",
        "    text = re.sub(r\"(I|i)(I|i)+ng\", \"ing\", text)\n",
        "    text = re.sub(r\"(L|l)(L|l)(L|l)+y\", \"lly\", text)\n",
        "    text = re.sub(r\"(A|a)(A|a)(A|a)+\", \"a\", text)\n",
        "    text = re.sub(r\"(C|c)(C|c)(C|c)+\", \"cc\", text)\n",
        "    text = re.sub(r\"(D|d)(D|d)(D|d)+\", \"dd\", text)\n",
        "    text = re.sub(r\"(E|e)(E|e)(E|e)+\", \"ee\", text)\n",
        "    text = re.sub(r\"(F|f)(F|f)(F|f)+\", \"ff\", text)\n",
        "    text = re.sub(r\"(G|g)(G|g)(G|g)+\", \"gg\", text)\n",
        "    text = re.sub(r\"(I|i)(I|i)(I|i)+\", \"i\", text)\n",
        "    text = re.sub(r\"(K|k)(K|k)(K|k)+\", \"k\", text)\n",
        "    text = re.sub(r\"(L|l)(L|l)(L|l)+\", \"ll\", text)\n",
        "    text = re.sub(r\"(M|m)(M|m)(M|m)+\", \"mm\", text)\n",
        "    text = re.sub(r\"(N|n)(N|n)(N|n)+\", \"nn\", text)\n",
        "    text = re.sub(r\"(O|o)(O|o)(O|o)+\", \"oo\", text)\n",
        "    text = re.sub(r\"(P|p)(P|p)(P|p)+\", \"pp\", text)\n",
        "    text = re.sub(r\"(Q|q)(Q|q)+\", \"q\", text)\n",
        "    text = re.sub(r\"(R|r)(R|r)(R|r)+\", \"rr\", text)\n",
        "    text = re.sub(r\"(S|s)(S|s)(S|s)+\", \"ss\", text)\n",
        "    text = re.sub(r\"(T|t)(T|t)(T|t)+\", \"tt\", text)\n",
        "    text = re.sub(r\"(V|v)(V|v)+\", \"v\", text)\n",
        "    text = re.sub(r\"(Y|y)(Y|y)(Y|y)+\", \"y\", text)\n",
        "    text = re.sub(r\"plzz+\", \"please\", text)\n",
        "    text = re.sub(r\"(Z|z)(Z|z)(Z|z)+\", \"zz\", text)\n",
        "    text = re.sub(r\"(-+|\\.+)\", \" \", text) #new haha #this adds a space token so we need to remove xtra spaces\n",
        "    return text\n",
        "\n",
        "# handle punctuation\n",
        "def spacing_punctuation(text):\n",
        "    regular_punct = list(string.punctuation)\n",
        "    extra_punct = [',', '.', '\"', ':', ')', '(', '!', '?', '|', ';', \"'\", '$', '&', '/', '[', ']', '>', '%', '=', '#', '*', '+', '\\\\', '•',  '~', '@', '£',\n",
        "        '·', '_', '{', '}', '©', '^', '®', '`',  '<', '→', '°', '€', '™', '›', '♥', '←', '×', '§', '″', '′', 'Â', '█', '½', 'à', '…', '“', '★', '”',\n",
        "        '–', '●', 'â', '►', '−', '¢', '²', '¬', '░', '¶', '↑', '±', '¿', '▾', '═', '¦', '║', '―', '¥', '▓', '—', '‹', '─', '▒', '：', '¼', '⊕', '▼',\n",
        "        '▪', '†', '■', '’', '▀', '¨', '▄', '♫', '☆', 'é', '¯', '♦', '¤', '▲', 'è', '¸', '¾', 'Ã', '⋅', '‘', '∞', '∙', '）', '↓', '、', '│', '（', '»',\n",
        "        '，', '♪', '╩', '╚', '³', '・', '╦', '╣', '╔', '╗', '▬', '❤', 'ï', 'Ø', '¹', '≤', '‡', '√', '«', '»', '´', 'º', '¾', '¡', '§', '£', '₤',\n",
        "        ':)', ': )', ':-)', '(:', '( :', '(-:', ':\\')', ':D', ': D', ':-D', 'xD', 'x-D', 'XD', 'X-D',\n",
        "        '<3', ':*', ';-)', ';)', ';-D', ';D', '(;',  '(-;', ':-(', ': (', ':(', '\\'):', ')-:', '-- :','(', ':\\'(', ':\"(\\'']\n",
        "\n",
        "    all_punct = list(set(regular_punct + extra_punct))\n",
        "    all_punct.remove('-')\n",
        "    all_punct.remove('.')\n",
        "\n",
        "    for punc in all_punct:\n",
        "        if punc in text:\n",
        "            text = text.replace(punc, f' {punc} ')\n",
        "    return text\n",
        "    \n",
        "\n",
        "    \n",
        "#contraction map\n",
        "\n",
        "contraction_mapping = {\"ain't\": \"is not\", \"aren't\": \"are not\",\"can't\": \"cannot\", \"'cause\": \"because\", \"could've\": \"could have\", \"couldn't\": \"could not\", \"didn't\": \"did not\",  \"doesn't\": \"does not\", \"don't\": \"do not\", \"hadn't\": \"had not\", \"hasn't\": \"has not\", \"haven't\": \"have not\", \"he'd\": \"he would\",\"he'll\": \"he will\", \"he's\": \"he is\", \"how'd\": \"how did\", \"how'd'y\": \"how do you\", \"how'll\": \"how will\", \"how's\": \"how is\",  \"I'd\": \"I would\", \"I'd've\": \"I would have\", \"I'll\": \"I will\", \"I'll've\": \"I will have\",\"I'm\": \"I am\", \"I've\": \"I have\", \"i'd\": \"i would\", \"i'd've\": \"i would have\", \"i'll\": \"i will\",  \"i'll've\": \"i will have\",\"i'm\": \"i am\", \"i've\": \"i have\", \"isn't\": \"is not\", \"it'd\": \"it would\", \"it'd've\": \"it would have\", \"it'll\": \"it will\", \"it'll've\": \"it will have\",\"it's\": \"it is\", \"let's\": \"let us\", \"ma'am\": \"madam\", \"mayn't\": \"may not\", \"might've\": \"might have\",\"mightn't\": \"might not\",\"mightn't've\": \"might not have\", \"must've\": \"must have\", \"mustn't\": \"must not\", \"mustn't've\": \"must not have\", \"needn't\": \"need not\", \"needn't've\": \"need not have\",\"o'clock\": \"of the clock\", \"oughtn't\": \"ought not\", \"oughtn't've\": \"ought not have\", \"shan't\": \"shall not\", \"sha'n't\": \"shall not\", \"shan't've\": \"shall not have\", \"she'd\": \"she would\", \"she'd've\": \"she would have\", \"she'll\": \"she will\", \"she'll've\": \"she will have\", \"she's\": \"she is\", \"should've\": \"should have\", \"shouldn't\": \"should not\", \"shouldn't've\": \"should not have\", \"so've\": \"so have\",\"so's\": \"so as\", \"this's\": \"this is\",\"that'd\": \"that would\", \"that'd've\": \"that would have\", \"that's\": \"that is\", \"there'd\": \"there would\", \"there'd've\": \"there would have\", \"there's\": \"there is\", \"here's\": \"here is\",\"they'd\": \"they would\", \"they'd've\": \"they would have\", \"they'll\": \"they will\", \"they'll've\": \"they will have\", \"they're\": \"they are\", \"they've\": \"they have\", \"to've\": \"to have\", \"wasn't\": \"was not\", \"we'd\": \"we would\", \"we'd've\": \"we would have\", \"we'll\": \"we will\", \"we'll've\": \"we will have\", \"we're\": \"we are\", \"we've\": \"we have\", \"weren't\": \"were not\", \"what'll\": \"what will\", \"what'll've\": \"what will have\", \"what're\": \"what are\",  \"what's\": \"what is\", \"what've\": \"what have\", \"when's\": \"when is\", \"when've\": \"when have\", \"where'd\": \"where did\", \"where's\": \"where is\", \"where've\": \"where have\", \"who'll\": \"who will\", \"who'll've\": \"who will have\", \"who's\": \"who is\", \"who've\": \"who have\", \"why's\": \"why is\", \"why've\": \"why have\", \"will've\": \"will have\", \"won't\": \"will not\", \"won't've\": \"will not have\", \"would've\": \"would have\", \"wouldn't\": \"would not\", \"wouldn't've\": \"would not have\", \"y'all\": \"you all\", \"y'all'd\": \"you all would\",\"y'all'd've\": \"you all would have\",\"y'all're\": \"you all are\",\"y'all've\": \"you all have\",\"you'd\": \"you would\", \"you'd've\": \"you would have\", \"you'll\": \"you will\", \"you'll've\": \"you will have\", \"you're\": \"you are\", \"you've\": \"you have\" }\n",
        "\n",
        "\n",
        "\n",
        "def correct_contraction(x, dic):\n",
        "    for word in dic.keys():\n",
        "        x = x.replace(word, dic[word])\n",
        "    return x\n",
        "\n",
        "# start pre-processing\n",
        "def preprocess(text):\n",
        "    text = remove_space(text)\n",
        "    text = correct_contraction(text, contraction_mapping)\n",
        "    text = clean_special_punctuations(text)\n",
        "    text = handle_emojis(text)\n",
        "    text = clean_number(text)\n",
        "    text = spacing_punctuation(text)\n",
        "    text = clean_repeat_words(text)\n",
        "    text = remove_space(text)\n",
        "    return text"
      ],
      "execution_count": 0,
      "outputs": []
    },
    {
      "cell_type": "code",
      "metadata": {
        "ExecuteTime": {
          "end_time": "2020-03-17T16:41:38.554356Z",
          "start_time": "2020-03-17T16:41:38.307102Z"
        },
        "colab_type": "code",
        "id": "rieX3srODo_N",
        "colab": {}
      },
      "source": [
        "from spellchecker import SpellChecker\n",
        "\n",
        "spell = SpellChecker()\n",
        "def correct_spellings(text):\n",
        "    corrected_text = []\n",
        "    misspelled_words = spell.unknown(text.split())\n",
        "    for word in text.split():\n",
        "        if word in misspelled_words:\n",
        "            corrected_text.append(spell.correction(word))\n",
        "        else:\n",
        "            corrected_text.append(word)\n",
        "    return \" \".join(corrected_text)\n",
        "\n",
        "# text = \"speling correctin\"\n",
        "# correct_spellings(text)"
      ],
      "execution_count": 0,
      "outputs": []
    },
    {
      "cell_type": "code",
      "metadata": {
        "ExecuteTime": {
          "end_time": "2020-03-17T16:41:41.573447Z",
          "start_time": "2020-03-17T16:41:41.565331Z"
        },
        "colab_type": "code",
        "id": "ZlW5qNqLDo_W",
        "colab": {}
      },
      "source": [
        "def text_clean_wrapper(df):\n",
        "    df['Phrase'] = df['Phrase'].str.lower()\n",
        "    df[\"Phrase\"] = df[\"Phrase\"].astype('str').transform(preprocess)\n",
        "    # df['Phrase'] = df['Phrase'].transform(lambda x: correct_spellings(x))\n",
        "    return df"
      ],
      "execution_count": 0,
      "outputs": []
    },
    {
      "cell_type": "code",
      "metadata": {
        "ExecuteTime": {
          "start_time": "2020-03-17T16:41:45.148Z"
        },
        "colab_type": "code",
        "id": "u30X83G2Do_g",
        "outputId": "dd4beb2e-aadf-47c9-bd03-3e54a5eb9325",
        "colab": {
          "base_uri": "https://localhost:8080/",
          "height": 67
        }
      },
      "source": [
        "import psutil, time\n",
        "from multiprocessing import Pool\n",
        "import multiprocessing\n",
        "num_cores = psutil.cpu_count()  \n",
        "num_partitions = 10  # number of partitions to split dataframe\n",
        "\n",
        "def run_thread(df, func):\n",
        "    df_split = np.array_split(df, num_partitions)\n",
        "    pool = Pool(num_cores)\n",
        "    df = pd.concat(pool.map(func, df_split))\n",
        "    pool.close()\n",
        "    pool.join()\n",
        "    return df\n",
        "\n",
        "start_time = time.time()\n",
        "print('Processing Started...')\n",
        "# preprocessing - multi thread run\n",
        "full_df = run_thread(train, text_clean_wrapper)\n",
        "print(full_df.shape)\n",
        "print(\"Pre-Process Run Time :: %s mins\" % ((time.time() - start_time)/60))"
      ],
      "execution_count": 74,
      "outputs": [
        {
          "output_type": "stream",
          "text": [
            "Processing Started...\n",
            "(156060, 4)\n",
            "Pre-Process Run Time :: 0.282333509127299 mins\n"
          ],
          "name": "stdout"
        }
      ]
    },
    {
      "cell_type": "code",
      "metadata": {
        "ExecuteTime": {
          "start_time": "2020-03-17T16:42:38.349Z"
        },
        "colab_type": "code",
        "id": "N0mon7ljDo_l",
        "outputId": "222c5712-af7e-4f20-ec51-d89aaae6b024",
        "colab": {
          "base_uri": "https://localhost:8080/",
          "height": 343
        }
      },
      "source": [
        "full_df.head(10)"
      ],
      "execution_count": 75,
      "outputs": [
        {
          "output_type": "execute_result",
          "data": {
            "text/html": [
              "<div>\n",
              "<style scoped>\n",
              "    .dataframe tbody tr th:only-of-type {\n",
              "        vertical-align: middle;\n",
              "    }\n",
              "\n",
              "    .dataframe tbody tr th {\n",
              "        vertical-align: top;\n",
              "    }\n",
              "\n",
              "    .dataframe thead th {\n",
              "        text-align: right;\n",
              "    }\n",
              "</style>\n",
              "<table border=\"1\" class=\"dataframe\">\n",
              "  <thead>\n",
              "    <tr style=\"text-align: right;\">\n",
              "      <th></th>\n",
              "      <th>PhraseId</th>\n",
              "      <th>SentenceId</th>\n",
              "      <th>Phrase</th>\n",
              "      <th>Sentiment</th>\n",
              "    </tr>\n",
              "  </thead>\n",
              "  <tbody>\n",
              "    <tr>\n",
              "      <th>0</th>\n",
              "      <td>1</td>\n",
              "      <td>1</td>\n",
              "      <td>a series of escapades demonstrating the adage ...</td>\n",
              "      <td>1</td>\n",
              "    </tr>\n",
              "    <tr>\n",
              "      <th>1</th>\n",
              "      <td>2</td>\n",
              "      <td>1</td>\n",
              "      <td>a series of escapades demonstrating the adage ...</td>\n",
              "      <td>2</td>\n",
              "    </tr>\n",
              "    <tr>\n",
              "      <th>2</th>\n",
              "      <td>3</td>\n",
              "      <td>1</td>\n",
              "      <td>a series</td>\n",
              "      <td>2</td>\n",
              "    </tr>\n",
              "    <tr>\n",
              "      <th>3</th>\n",
              "      <td>4</td>\n",
              "      <td>1</td>\n",
              "      <td>a</td>\n",
              "      <td>2</td>\n",
              "    </tr>\n",
              "    <tr>\n",
              "      <th>4</th>\n",
              "      <td>5</td>\n",
              "      <td>1</td>\n",
              "      <td>series</td>\n",
              "      <td>2</td>\n",
              "    </tr>\n",
              "    <tr>\n",
              "      <th>5</th>\n",
              "      <td>6</td>\n",
              "      <td>1</td>\n",
              "      <td>of escapades demonstrating the adage that what...</td>\n",
              "      <td>2</td>\n",
              "    </tr>\n",
              "    <tr>\n",
              "      <th>6</th>\n",
              "      <td>7</td>\n",
              "      <td>1</td>\n",
              "      <td>of</td>\n",
              "      <td>2</td>\n",
              "    </tr>\n",
              "    <tr>\n",
              "      <th>7</th>\n",
              "      <td>8</td>\n",
              "      <td>1</td>\n",
              "      <td>escapades demonstrating the adage that what is...</td>\n",
              "      <td>2</td>\n",
              "    </tr>\n",
              "    <tr>\n",
              "      <th>8</th>\n",
              "      <td>9</td>\n",
              "      <td>1</td>\n",
              "      <td>escapades</td>\n",
              "      <td>2</td>\n",
              "    </tr>\n",
              "    <tr>\n",
              "      <th>9</th>\n",
              "      <td>10</td>\n",
              "      <td>1</td>\n",
              "      <td>demonstrating the adage that what is good for ...</td>\n",
              "      <td>2</td>\n",
              "    </tr>\n",
              "  </tbody>\n",
              "</table>\n",
              "</div>"
            ],
            "text/plain": [
              "   PhraseId  ...  Sentiment\n",
              "0         1  ...          1\n",
              "1         2  ...          2\n",
              "2         3  ...          2\n",
              "3         4  ...          2\n",
              "4         5  ...          2\n",
              "5         6  ...          2\n",
              "6         7  ...          2\n",
              "7         8  ...          2\n",
              "8         9  ...          2\n",
              "9        10  ...          2\n",
              "\n",
              "[10 rows x 4 columns]"
            ]
          },
          "metadata": {
            "tags": []
          },
          "execution_count": 75
        }
      ]
    },
    {
      "cell_type": "code",
      "metadata": {
        "id": "SUXa6nhxR9c2",
        "colab_type": "code",
        "colab": {}
      },
      "source": [
        "# from sklearn.feature_extraction.text import CountVectorizer , TfidfVectorizer\n",
        "# # Transform each text into a vector of word counts\n",
        "# # vectorizer = CountVectorizer(stop_words=\"english\",\n",
        "# # ngram_range=(1, 1))\n",
        "# vectorizer = TfidfVectorizer(stop_words=\"english\",\n",
        "# ngram_range=(1, 1))\n",
        "# X = vectorizer.fit_transform(full_df[\"Phrase\"])\n",
        "# Y = all_data['Sentiment']\n",
        "# x_train = vectorizer.transform(train_data[\"text\"])\n",
        "# y_train = train_data['sentiment']\n",
        "# x_test = vectorizer.transform(test_data[\"text\"])\n",
        "# y_test = test_data['sentiment']"
      ],
      "execution_count": 0,
      "outputs": []
    },
    {
      "cell_type": "code",
      "metadata": {
        "id": "80ohjdDXR8-z",
        "colab_type": "code",
        "colab": {}
      },
      "source": [
        ""
      ],
      "execution_count": 0,
      "outputs": []
    },
    {
      "cell_type": "markdown",
      "metadata": {
        "colab_type": "text",
        "id": "uIqtAplqWvNm"
      },
      "source": [
        "### word2vec_cnn"
      ]
    },
    {
      "cell_type": "code",
      "metadata": {
        "colab_type": "code",
        "id": "rG9sDWE0WtoW",
        "colab": {}
      },
      "source": [
        "\n",
        "# Load Google's pre-trained Word2Vec model.\n",
        "# w2v_model = gensim.models.KeyedVectors.load_word2vec_format('GoogleNews-vectors-negative300.bin.gz', binary=True)"
      ],
      "execution_count": 0,
      "outputs": []
    },
    {
      "cell_type": "code",
      "metadata": {
        "colab_type": "code",
        "id": "fYT3TUXqfSOD",
        "colab": {}
      },
      "source": [
        "MAX_VOCAB_SIZE = 15000 # unique words = 15277  # total words 156060"
      ],
      "execution_count": 0,
      "outputs": []
    },
    {
      "cell_type": "code",
      "metadata": {
        "id": "Qaq6EBX2piKf",
        "colab_type": "code",
        "outputId": "751ee260-fa00-4e3b-d23a-798d93cf6aac",
        "colab": {
          "base_uri": "https://localhost:8080/",
          "height": 66,
          "referenced_widgets": [
            "346c21bc94d945718d07473f51a8f91d",
            "bea32da8db1f447287c576099e78f574",
            "c5a1223c7a7d47f3bc959524c525291b",
            "462bc671943e407a8d6c01f9a1ddd3ff",
            "1710ff0636f24f98b922563103fbf05c",
            "6c5e35f312934aa6b110e1f33276b385",
            "ba3aa19ea34f48ca8d33264cc286f766",
            "678a1dad1cd64789905db0bd48c696ea"
          ]
        }
      },
      "source": [
        "list_of_sent=[]\n",
        "for sentence in tqdm(full_df['Phrase']):\n",
        "    fil_sent=[]\n",
        "    for word in sentence.split():\n",
        "        if (word.isalpha()):\n",
        "            fil_sent.append(word)\n",
        "        else:\n",
        "            continue\n",
        "    list_of_sent.append(fil_sent)\n",
        "\n",
        "\n",
        "w2v_model = gensim.models.Word2Vec(list_of_sent,min_count=5,size=100, workers = 4, sg = 1) #sg = 1(skip_gram),0(c_bow)"
      ],
      "execution_count": 79,
      "outputs": [
        {
          "output_type": "display_data",
          "data": {
            "application/vnd.jupyter.widget-view+json": {
              "model_id": "346c21bc94d945718d07473f51a8f91d",
              "version_minor": 0,
              "version_major": 2
            },
            "text/plain": [
              "HBox(children=(IntProgress(value=0, max=156060), HTML(value='')))"
            ]
          },
          "metadata": {
            "tags": []
          }
        },
        {
          "output_type": "stream",
          "text": [
            "\n"
          ],
          "name": "stdout"
        }
      ]
    },
    {
      "cell_type": "code",
      "metadata": {
        "colab_type": "code",
        "id": "f7REtPsE5Ss_",
        "colab": {}
      },
      "source": [
        "from sklearn.model_selection import train_test_split\n",
        "from sklearn.preprocessing import OneHotEncoder\n",
        "ohe = OneHotEncoder(handle_unknown='ignore')\n",
        "Y = ohe.fit_transform(full_df['Sentiment'].values.reshape(-1,1))\n",
        "X_train, X_test, y_train, y_test = train_test_split(full_df['Phrase'], Y, test_size=0.3, random_state=2003)"
      ],
      "execution_count": 0,
      "outputs": []
    },
    {
      "cell_type": "code",
      "metadata": {
        "colab_type": "code",
        "id": "dx3b9AZfdhnF",
        "outputId": "48fa5c66-4df4-4b54-b233-ab175419658e",
        "colab": {
          "base_uri": "https://localhost:8080/",
          "height": 50
        }
      },
      "source": [
        "from keras.preprocessing.text import Tokenizer\n",
        "from keras.preprocessing.sequence import pad_sequences\n",
        "MAX_SEQUENCE_LENGTH = 50\n",
        "EMBEDDING_DIM =100\n",
        "tokenizer = Tokenizer(num_words=MAX_VOCAB_SIZE, lower=True, char_level=False)\n",
        "tokenizer.fit_on_texts(full_df['Phrase'].tolist())\n",
        "training_sequences = tokenizer.texts_to_sequences(X_train.tolist())\n",
        "\n",
        "train_word_index = tokenizer.word_index\n",
        "print('Found %s unique tokens.' % len(train_word_index))\n",
        "\n",
        "train_embedding_weights = np.zeros((len(train_word_index)+1, EMBEDDING_DIM))\n",
        "for word,index in train_word_index.items():\n",
        "    train_embedding_weights[index,:] = w2v_model[word] if word in w2v_model else np.random.rand(EMBEDDING_DIM)\n",
        "print(train_embedding_weights.shape)"
      ],
      "execution_count": 82,
      "outputs": [
        {
          "output_type": "stream",
          "text": [
            "Found 15262 unique tokens.\n",
            "(15263, 100)\n"
          ],
          "name": "stdout"
        }
      ]
    },
    {
      "cell_type": "code",
      "metadata": {
        "colab_type": "code",
        "id": "250Zb3Sw6Ec3",
        "colab": {}
      },
      "source": [
        "train_cnn_data = pad_sequences(training_sequences, maxlen=MAX_SEQUENCE_LENGTH)\n",
        "test_sequences = tokenizer.texts_to_sequences(X_test.tolist())\n",
        "test_cnn_data = pad_sequences(test_sequences, maxlen=MAX_SEQUENCE_LENGTH)"
      ],
      "execution_count": 0,
      "outputs": []
    },
    {
      "cell_type": "code",
      "metadata": {
        "colab_type": "code",
        "id": "18u9a41hCmv4",
        "outputId": "751b589e-16fc-48dc-ace5-17bf646ae9be",
        "colab": {
          "base_uri": "https://localhost:8080/",
          "height": 202
        }
      },
      "source": [
        "import os\n",
        "import sys\n",
        "import numpy as np\n",
        "import pandas as pd\n",
        "import joblib\n",
        "import pickle\n",
        "import nltk\n",
        "import re\n",
        "import matplotlib.pyplot as plt\n",
        "%matplotlib inline\n",
        "import warnings\n",
        "warnings.filterwarnings('ignore')\n",
        "from nltk.stem import WordNetLemmatizer \n",
        "nltk.download('wordnet')\n",
        "lemmatizer = WordNetLemmatizer()\n",
        "\n",
        "from sklearn.preprocessing import LabelEncoder\n",
        "from sklearn.model_selection import train_test_split\n",
        "from sklearn.naive_bayes import GaussianNB\n",
        "from sklearn import metrics\n",
        "from sklearn.utils import shuffle\n",
        "\n",
        "import keras\n",
        "from keras.preprocessing.text import Tokenizer\n",
        "from keras.preprocessing.sequence import pad_sequences\n",
        "from keras.utils import to_categorical\n",
        "from keras.layers import Dense,Input,Flatten,Reshape,Dropout,Concatenate,Conv2D,MaxPool2D,Embedding,SpatialDropout1D,LSTM,LeakyReLU,PReLU,ThresholdedReLU\n",
        "from keras.models import Model, Sequential\n",
        "from keras.optimizers import SGD, Nadam, Adadelta,Adam,Adamax,Adagrad\n",
        "from keras.callbacks import ReduceLROnPlateau ,ModelCheckpoint, EarlyStopping\n",
        "\n",
        "\n",
        "\n",
        "!pip3 install keras-rectified-adam\n",
        "from keras_radam import RAdam"
      ],
      "execution_count": 84,
      "outputs": [
        {
          "output_type": "stream",
          "text": [
            "[nltk_data] Downloading package wordnet to /root/nltk_data...\n",
            "[nltk_data]   Package wordnet is already up-to-date!\n",
            "Requirement already satisfied: keras-rectified-adam in /usr/local/lib/python3.6/dist-packages (0.17.0)\n",
            "Requirement already satisfied: numpy in /usr/local/lib/python3.6/dist-packages (from keras-rectified-adam) (1.18.2)\n",
            "Requirement already satisfied: Keras in /usr/local/lib/python3.6/dist-packages (from keras-rectified-adam) (2.2.5)\n",
            "Requirement already satisfied: scipy>=0.14 in /usr/local/lib/python3.6/dist-packages (from Keras->keras-rectified-adam) (1.4.1)\n",
            "Requirement already satisfied: pyyaml in /usr/local/lib/python3.6/dist-packages (from Keras->keras-rectified-adam) (3.13)\n",
            "Requirement already satisfied: keras-applications>=1.0.8 in /usr/local/lib/python3.6/dist-packages (from Keras->keras-rectified-adam) (1.0.8)\n",
            "Requirement already satisfied: keras-preprocessing>=1.1.0 in /usr/local/lib/python3.6/dist-packages (from Keras->keras-rectified-adam) (1.1.0)\n",
            "Requirement already satisfied: h5py in /usr/local/lib/python3.6/dist-packages (from Keras->keras-rectified-adam) (2.8.0)\n",
            "Requirement already satisfied: six>=1.9.0 in /usr/local/lib/python3.6/dist-packages (from Keras->keras-rectified-adam) (1.12.0)\n"
          ],
          "name": "stdout"
        }
      ]
    },
    {
      "cell_type": "code",
      "metadata": {
        "colab_type": "code",
        "id": "pWe-7M0MBRG8",
        "outputId": "ece231d6-491d-4b45-95fc-899fee77d3c1",
        "colab": {
          "base_uri": "https://localhost:8080/",
          "height": 1000
        }
      },
      "source": [
        "filter_sizes = [1,2,3,5]#[1,2,3,5]\n",
        "num_filters = 256 #224 best\n",
        "drop = 0.5\n",
        "\n",
        "#     print(\"Creating Model...\")\n",
        "inputs = Input(shape=(MAX_SEQUENCE_LENGTH,), dtype='int32')\n",
        "embedding = Embedding(input_dim=len(train_word_index) + 1, output_dim=EMBEDDING_DIM, weights=[train_embedding_weights],\n",
        "                      input_length=MAX_SEQUENCE_LENGTH, trainable=False)(inputs)\n",
        "reshape = Reshape((MAX_SEQUENCE_LENGTH,EMBEDDING_DIM,1))(embedding)\n",
        "\n",
        "conv_0 = Conv2D(num_filters, kernel_size=(filter_sizes[0], EMBEDDING_DIM), padding='valid', kernel_initializer='normal', activation='relu')(reshape)\n",
        "conv_1 = Conv2D(num_filters, kernel_size=(filter_sizes[1], EMBEDDING_DIM), padding='valid', kernel_initializer='normal', activation='relu')(reshape)\n",
        "conv_2 = Conv2D(num_filters, kernel_size=(filter_sizes[2], EMBEDDING_DIM), padding='valid', kernel_initializer='normal', activation='relu')(reshape)\n",
        "\n",
        "maxpool_0 = MaxPool2D(pool_size=(MAX_SEQUENCE_LENGTH - filter_sizes[0] + 1, 1), strides=(1,1), padding='valid')(conv_0)\n",
        "maxpool_1 = MaxPool2D(pool_size=(MAX_SEQUENCE_LENGTH - filter_sizes[1] + 1, 1), strides=(1,1), padding='valid')(conv_1)\n",
        "maxpool_2 = MaxPool2D(pool_size=(MAX_SEQUENCE_LENGTH - filter_sizes[2] + 1, 1), strides=(1,1), padding='valid')(conv_2)\n",
        "\n",
        "concatenated_tensor = Concatenate(axis=1)([maxpool_0, maxpool_1, maxpool_2])\n",
        "flatten = Flatten()(concatenated_tensor)\n",
        "dropout = Dropout(drop)(flatten)\n",
        "preds = Dense(5, activation='softmax')(dropout)\n",
        "\n",
        "# this creates a model that includes inputs and outputs\n",
        "model = Model(inputs=inputs, outputs=preds) \n",
        "\n",
        "opt = Adam(lr=0.05)\n",
        "\n",
        "# opt = RAdam(total_steps=10000, warmup_proportion=0.1, min_lr=1e-5)\n",
        "\n",
        "# opt = keras.optimizers.Adadelta(lr=0.1, rho=0.95, epsilon=None, decay=0.0) # 1.65,0.969\n",
        "# opt = keras.optimizers.SGD(lr=0.5, momentum=0.0, decay=0.0, nesterov=False)\n",
        "\n",
        "\n",
        "model.compile(loss='categorical_crossentropy', optimizer='adam', metrics=['acc']) #RAdam(),'adam'\n",
        "\n",
        "ckpt=ModelCheckpoint('/content/1104370_1dconv_reg.h5',monitor='val_acc',verbose=1,save_best_only=True)\n",
        "history = model.fit(train_cnn_data, y_train,   batch_size=512, epochs=30, validation_data=(test_cnn_data, y_test),callbacks=[ckpt])"
      ],
      "execution_count": 87,
      "outputs": [
        {
          "output_type": "stream",
          "text": [
            "Train on 109242 samples, validate on 46818 samples\n",
            "Epoch 1/30\n",
            "109242/109242 [==============================] - 14s 128us/step - loss: 1.1862 - acc: 0.5356 - val_loss: 1.0635 - val_acc: 0.5777\n",
            "\n",
            "Epoch 00001: val_acc improved from -inf to 0.57771, saving model to /content/1104370_1dconv_reg.h5\n",
            "Epoch 2/30\n",
            "109242/109242 [==============================] - 13s 123us/step - loss: 1.0674 - acc: 0.5746 - val_loss: 1.0275 - val_acc: 0.5918\n",
            "\n",
            "Epoch 00002: val_acc improved from 0.57771 to 0.59182, saving model to /content/1104370_1dconv_reg.h5\n",
            "Epoch 3/30\n",
            "109242/109242 [==============================] - 13s 123us/step - loss: 1.0324 - acc: 0.5883 - val_loss: 1.0069 - val_acc: 0.5966\n",
            "\n",
            "Epoch 00003: val_acc improved from 0.59182 to 0.59657, saving model to /content/1104370_1dconv_reg.h5\n",
            "Epoch 4/30\n",
            "109242/109242 [==============================] - 13s 122us/step - loss: 1.0071 - acc: 0.5987 - val_loss: 0.9913 - val_acc: 0.6049\n",
            "\n",
            "Epoch 00004: val_acc improved from 0.59657 to 0.60494, saving model to /content/1104370_1dconv_reg.h5\n",
            "Epoch 5/30\n",
            "109242/109242 [==============================] - 13s 122us/step - loss: 0.9879 - acc: 0.6067 - val_loss: 0.9782 - val_acc: 0.6088\n",
            "\n",
            "Epoch 00005: val_acc improved from 0.60494 to 0.60878, saving model to /content/1104370_1dconv_reg.h5\n",
            "Epoch 6/30\n",
            "109242/109242 [==============================] - 13s 122us/step - loss: 0.9675 - acc: 0.6159 - val_loss: 0.9665 - val_acc: 0.6124\n",
            "\n",
            "Epoch 00006: val_acc improved from 0.60878 to 0.61241, saving model to /content/1104370_1dconv_reg.h5\n",
            "Epoch 7/30\n",
            "109242/109242 [==============================] - 13s 122us/step - loss: 0.9544 - acc: 0.6197 - val_loss: 0.9549 - val_acc: 0.6149\n",
            "\n",
            "Epoch 00007: val_acc improved from 0.61241 to 0.61487, saving model to /content/1104370_1dconv_reg.h5\n",
            "Epoch 8/30\n",
            "109242/109242 [==============================] - 13s 123us/step - loss: 0.9407 - acc: 0.6260 - val_loss: 0.9433 - val_acc: 0.6261\n",
            "\n",
            "Epoch 00008: val_acc improved from 0.61487 to 0.62606, saving model to /content/1104370_1dconv_reg.h5\n",
            "Epoch 9/30\n",
            "109242/109242 [==============================] - 13s 122us/step - loss: 0.9296 - acc: 0.6302 - val_loss: 0.9577 - val_acc: 0.6198\n",
            "\n",
            "Epoch 00009: val_acc did not improve from 0.62606\n",
            "Epoch 10/30\n",
            "109242/109242 [==============================] - 13s 123us/step - loss: 0.9165 - acc: 0.6353 - val_loss: 0.9288 - val_acc: 0.6291\n",
            "\n",
            "Epoch 00010: val_acc improved from 0.62606 to 0.62907, saving model to /content/1104370_1dconv_reg.h5\n",
            "Epoch 11/30\n",
            "109242/109242 [==============================] - 13s 122us/step - loss: 0.9074 - acc: 0.6394 - val_loss: 0.9247 - val_acc: 0.6318\n",
            "\n",
            "Epoch 00011: val_acc improved from 0.62907 to 0.63179, saving model to /content/1104370_1dconv_reg.h5\n",
            "Epoch 12/30\n",
            "109242/109242 [==============================] - 13s 122us/step - loss: 0.9006 - acc: 0.6428 - val_loss: 0.9207 - val_acc: 0.6327\n",
            "\n",
            "Epoch 00012: val_acc improved from 0.63179 to 0.63273, saving model to /content/1104370_1dconv_reg.h5\n",
            "Epoch 13/30\n",
            "109242/109242 [==============================] - 13s 122us/step - loss: 0.8898 - acc: 0.6465 - val_loss: 0.9170 - val_acc: 0.6346\n",
            "\n",
            "Epoch 00013: val_acc improved from 0.63273 to 0.63465, saving model to /content/1104370_1dconv_reg.h5\n",
            "Epoch 14/30\n",
            "109242/109242 [==============================] - 13s 122us/step - loss: 0.8844 - acc: 0.6503 - val_loss: 0.9205 - val_acc: 0.6344\n",
            "\n",
            "Epoch 00014: val_acc did not improve from 0.63465\n",
            "Epoch 15/30\n",
            "109242/109242 [==============================] - 13s 122us/step - loss: 0.8775 - acc: 0.6521 - val_loss: 0.9094 - val_acc: 0.6386\n",
            "\n",
            "Epoch 00015: val_acc improved from 0.63465 to 0.63864, saving model to /content/1104370_1dconv_reg.h5\n",
            "Epoch 16/30\n",
            "109242/109242 [==============================] - 13s 122us/step - loss: 0.8699 - acc: 0.6549 - val_loss: 0.9101 - val_acc: 0.6382\n",
            "\n",
            "Epoch 00016: val_acc did not improve from 0.63864\n",
            "Epoch 17/30\n",
            "109242/109242 [==============================] - 13s 123us/step - loss: 0.8694 - acc: 0.6561 - val_loss: 0.9040 - val_acc: 0.6414\n",
            "\n",
            "Epoch 00017: val_acc improved from 0.63864 to 0.64136, saving model to /content/1104370_1dconv_reg.h5\n",
            "Epoch 18/30\n",
            "109242/109242 [==============================] - 13s 122us/step - loss: 0.8625 - acc: 0.6587 - val_loss: 0.9018 - val_acc: 0.6401\n",
            "\n",
            "Epoch 00018: val_acc did not improve from 0.64136\n",
            "Epoch 19/30\n",
            "109242/109242 [==============================] - 13s 122us/step - loss: 0.8544 - acc: 0.6612 - val_loss: 0.9009 - val_acc: 0.6416\n",
            "\n",
            "Epoch 00019: val_acc improved from 0.64136 to 0.64157, saving model to /content/1104370_1dconv_reg.h5\n",
            "Epoch 20/30\n",
            "109242/109242 [==============================] - 13s 123us/step - loss: 0.8509 - acc: 0.6635 - val_loss: 0.8992 - val_acc: 0.6433\n",
            "\n",
            "Epoch 00020: val_acc improved from 0.64157 to 0.64326, saving model to /content/1104370_1dconv_reg.h5\n",
            "Epoch 21/30\n",
            "109242/109242 [==============================] - 13s 122us/step - loss: 0.8456 - acc: 0.6648 - val_loss: 0.8986 - val_acc: 0.6433\n",
            "\n",
            "Epoch 00021: val_acc improved from 0.64326 to 0.64328, saving model to /content/1104370_1dconv_reg.h5\n",
            "Epoch 22/30\n",
            "109242/109242 [==============================] - 13s 121us/step - loss: 0.8418 - acc: 0.6649 - val_loss: 0.8967 - val_acc: 0.6447\n",
            "\n",
            "Epoch 00022: val_acc improved from 0.64328 to 0.64469, saving model to /content/1104370_1dconv_reg.h5\n",
            "Epoch 23/30\n",
            "109242/109242 [==============================] - 13s 122us/step - loss: 0.8373 - acc: 0.6686 - val_loss: 0.8946 - val_acc: 0.6444\n",
            "\n",
            "Epoch 00023: val_acc did not improve from 0.64469\n",
            "Epoch 24/30\n",
            "109242/109242 [==============================] - 13s 122us/step - loss: 0.8339 - acc: 0.6684 - val_loss: 0.8903 - val_acc: 0.6464\n",
            "\n",
            "Epoch 00024: val_acc improved from 0.64469 to 0.64640, saving model to /content/1104370_1dconv_reg.h5\n",
            "Epoch 25/30\n",
            "109242/109242 [==============================] - 13s 122us/step - loss: 0.8308 - acc: 0.6722 - val_loss: 0.8905 - val_acc: 0.6465\n",
            "\n",
            "Epoch 00025: val_acc improved from 0.64640 to 0.64652, saving model to /content/1104370_1dconv_reg.h5\n",
            "Epoch 26/30\n",
            "109242/109242 [==============================] - 13s 122us/step - loss: 0.8287 - acc: 0.6720 - val_loss: 0.8930 - val_acc: 0.6471\n",
            "\n",
            "Epoch 00026: val_acc improved from 0.64652 to 0.64708, saving model to /content/1104370_1dconv_reg.h5\n",
            "Epoch 27/30\n",
            "109242/109242 [==============================] - 13s 122us/step - loss: 0.8264 - acc: 0.6719 - val_loss: 0.8900 - val_acc: 0.6463\n",
            "\n",
            "Epoch 00027: val_acc did not improve from 0.64708\n",
            "Epoch 28/30\n",
            "109242/109242 [==============================] - 13s 122us/step - loss: 0.8221 - acc: 0.6748 - val_loss: 0.8904 - val_acc: 0.6465\n",
            "\n",
            "Epoch 00028: val_acc did not improve from 0.64708\n",
            "Epoch 29/30\n",
            "109242/109242 [==============================] - 13s 122us/step - loss: 0.8167 - acc: 0.6752 - val_loss: 0.8922 - val_acc: 0.6473\n",
            "\n",
            "Epoch 00029: val_acc improved from 0.64708 to 0.64729, saving model to /content/1104370_1dconv_reg.h5\n",
            "Epoch 30/30\n",
            "109242/109242 [==============================] - 13s 122us/step - loss: 0.8166 - acc: 0.6760 - val_loss: 0.8875 - val_acc: 0.6489\n",
            "\n",
            "Epoch 00030: val_acc improved from 0.64729 to 0.64885, saving model to /content/1104370_1dconv_reg.h5\n"
          ],
          "name": "stdout"
        }
      ]
    },
    {
      "cell_type": "code",
      "metadata": {
        "colab_type": "code",
        "id": "e44QBdL6DBur",
        "outputId": "b200c940-fac0-4b3b-a7cb-619980d1b9e3",
        "colab": {
          "base_uri": "https://localhost:8080/",
          "height": 50
        }
      },
      "source": [
        "loss, accuracy = model.evaluate(train_cnn_data, y_train, verbose=False)\n",
        "print(\"Training Accuracy: {:.4f}\".format(accuracy))\n",
        "loss, accuracy = model.evaluate(test_cnn_data, y_test, verbose=False)\n",
        "print(\"Testing Accuracy:  {:.4f}\".format(accuracy))"
      ],
      "execution_count": 88,
      "outputs": [
        {
          "output_type": "stream",
          "text": [
            "Training Accuracy: 0.7183\n",
            "Testing Accuracy:  0.6489\n"
          ],
          "name": "stdout"
        }
      ]
    },
    {
      "cell_type": "code",
      "metadata": {
        "id": "c3rhE-QAeXEn",
        "colab_type": "code",
        "colab": {}
      },
      "source": [
        "#activation=elu\n",
        "#optimizer=adm, lr=0.05\n",
        "\n",
        "# Training Accuracy: 0.6915\n",
        "# Testing Accuracy:  0.6381\n",
        "\n",
        "#num_filters=256\n",
        "# Training Accuracy: 0.6968\n",
        "# Testing Accuracy:  0.6403"
      ],
      "execution_count": 0,
      "outputs": []
    },
    {
      "cell_type": "code",
      "metadata": {
        "colab_type": "code",
        "id": "OWtvz73VTaUo",
        "colab": {}
      },
      "source": [
        "# prediction on validation data\n",
        "y_pred = model.predict(test_cnn_data)\n",
        "y_pred = np.argmax(y_pred, axis=1)"
      ],
      "execution_count": 0,
      "outputs": []
    },
    {
      "cell_type": "code",
      "metadata": {
        "colab_type": "code",
        "id": "aiCLdSX8TpvO",
        "colab": {}
      },
      "source": [
        "y_test1 = []\n",
        "for i in y_test:\n",
        "  y_test1.append(np.argmax(i))\n",
        "y_test1 = np.array(y_test1)"
      ],
      "execution_count": 0,
      "outputs": []
    },
    {
      "cell_type": "code",
      "metadata": {
        "colab_type": "code",
        "id": "vCAbl-p9io27",
        "outputId": "e67b5351-0d38-4217-a45d-349a3c6707af",
        "colab": {
          "base_uri": "https://localhost:8080/",
          "height": 218
        }
      },
      "source": [
        "from sklearn import metrics\n",
        "print(metrics.classification_report(y_test1, y_pred, target_names=['1','2','3','4','5']))"
      ],
      "execution_count": 91,
      "outputs": [
        {
          "output_type": "stream",
          "text": [
            "              precision    recall  f1-score   support\n",
            "\n",
            "           1       0.60      0.24      0.34      2151\n",
            "           2       0.54      0.43      0.48      8070\n",
            "           3       0.69      0.87      0.77     23987\n",
            "           4       0.59      0.48      0.53      9872\n",
            "           5       0.60      0.30      0.40      2738\n",
            "\n",
            "    accuracy                           0.65     46818\n",
            "   macro avg       0.60      0.46      0.50     46818\n",
            "weighted avg       0.63      0.65      0.63     46818\n",
            "\n"
          ],
          "name": "stdout"
        }
      ]
    },
    {
      "cell_type": "code",
      "metadata": {
        "colab_type": "code",
        "id": "fhldz6jzTWr7",
        "outputId": "fd02188d-8860-4bea-bcfb-afa97186806d",
        "colab": {
          "base_uri": "https://localhost:8080/",
          "height": 218
        }
      },
      "source": [
        "from sklearn import metrics\n",
        "print(metrics.classification_report(y_test1, y_pred, target_names=['1','2','3','4','5']))"
      ],
      "execution_count": 92,
      "outputs": [
        {
          "output_type": "stream",
          "text": [
            "              precision    recall  f1-score   support\n",
            "\n",
            "           1       0.60      0.24      0.34      2151\n",
            "           2       0.54      0.43      0.48      8070\n",
            "           3       0.69      0.87      0.77     23987\n",
            "           4       0.59      0.48      0.53      9872\n",
            "           5       0.60      0.30      0.40      2738\n",
            "\n",
            "    accuracy                           0.65     46818\n",
            "   macro avg       0.60      0.46      0.50     46818\n",
            "weighted avg       0.63      0.65      0.63     46818\n",
            "\n"
          ],
          "name": "stdout"
        }
      ]
    },
    {
      "cell_type": "code",
      "metadata": {
        "colab_type": "code",
        "id": "zTDS0NQhJ5UX",
        "outputId": "c088ed6a-5027-416f-f124-783335176dcb",
        "colab": {
          "base_uri": "https://localhost:8080/",
          "height": 281
        }
      },
      "source": [
        "# Create count of the number of epochs\n",
        "epoch_count = range(1, len(history.history['loss']) + 1)\n",
        "\n",
        "# Visualize learning curve. Here learning curve is not ideal. It should be much smoother as it decreases.\n",
        "#As mentioned before, altering different hyper parameters especially learning rate can have a positive impact\n",
        "#on accuracy and learning curve.\n",
        "plt.plot(epoch_count, history.history['loss'], 'r--')\n",
        "plt.plot(epoch_count, history.history['val_loss'], 'b-')\n",
        "plt.legend(['Training Loss', 'Validation Loss'])\n",
        "plt.xlabel('Epoch')\n",
        "plt.ylabel('Loss')\n",
        "plt.show()"
      ],
      "execution_count": 93,
      "outputs": [
        {
          "output_type": "display_data",
          "data": {
            "image/png": "[encoded data removed]",
            "text/plain": [
              "<Figure size 432x288 with 1 Axes>"
            ]
          },
          "metadata": {
            "tags": []
          }
        }
      ]
    },
    {
      "cell_type": "code",
      "metadata": {
        "colab_type": "code",
        "id": "Xl9Zkjd5kgd4",
        "outputId": "a589d2c0-0e23-46df-acc4-7dfa3e204e11",
        "colab": {
          "base_uri": "https://localhost:8080/",
          "height": 34
        }
      },
      "source": [
        "from sklearn.preprocessing import LabelBinarizer\n",
        "from sklearn.metrics import roc_auc_score\n",
        "def multiclass_roc_auc_score(y_test, y_pred, average=\"macro\"):\n",
        "    lb = LabelBinarizer()\n",
        "    lb.fit(y_test)\n",
        "    y_test = lb.transform(y_test)\n",
        "    y_pred = lb.transform(y_pred)\n",
        "    return roc_auc_score(y_test, y_pred, average=average)\n",
        "print(multiclass_roc_auc_score(y_test, y_pred))"
      ],
      "execution_count": 94,
      "outputs": [
        {
          "output_type": "stream",
          "text": [
            "0.672143080837919\n"
          ],
          "name": "stdout"
        }
      ]
    },
    {
      "cell_type": "code",
      "metadata": {
        "id": "c1RCFCT9HbEz",
        "colab_type": "code",
        "colab": {}
      },
      "source": [
        "model.save_weights(\"/content/1104370_1dconv_reg.h5\")"
      ],
      "execution_count": 0,
      "outputs": []
    }
  ]
}